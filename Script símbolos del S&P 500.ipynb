{
 "cells": [
  {
   "cell_type": "code",
   "execution_count": 1,
   "id": "a3df39d4",
   "metadata": {},
   "outputs": [
    {
     "name": "stdout",
     "output_type": "stream",
     "text": [
      "Primeros 10 símbolos del S&P 500:\n",
      "['MMM', 'AOS', 'ABT', 'ABBV', 'ACN', 'ADBE', 'AMD', 'AES', 'AFL', 'A']\n",
      "\n",
      "Número total de símbolos: 503\n"
     ]
    }
   ],
   "source": [
    "import pandas as pd\n",
    "\n",
    "def get_sp500_symbols():\n",
    "    # URL de Wikipedia que contiene la lista actual de empresas del S&P 500\n",
    "    url = 'https://en.wikipedia.org/wiki/List_of_S%26P_500_companies'\n",
    "    \n",
    "    # Leer las tablas de la página\n",
    "    tables = pd.read_html(url)\n",
    "    \n",
    "    # La primera tabla contiene la información que necesitamos\n",
    "    df = tables[0]\n",
    "    \n",
    "    # Obtenemos la columna de símbolos\n",
    "    symbols = df['Symbol'].tolist()\n",
    "    \n",
    "    return symbols\n",
    "\n",
    "# Obtener los símbolos\n",
    "sp500_symbols = get_sp500_symbols()\n",
    "\n",
    "# Imprimir los primeros 10 símbolos como ejemplo\n",
    "print(\"Primeros 10 símbolos del S&P 500:\")\n",
    "print(sp500_symbols[:10])\n",
    "\n",
    "# Imprimir el número total de símbolos\n",
    "print(f\"\\nNúmero total de símbolos: {len(sp500_symbols)}\")"
   ]
  },
  {
   "cell_type": "code",
   "execution_count": null,
   "id": "055caa31",
   "metadata": {},
   "outputs": [],
   "source": []
  }
 ],
 "metadata": {
  "kernelspec": {
   "display_name": "Python 3 (ipykernel)",
   "language": "python",
   "name": "python3"
  },
  "language_info": {
   "codemirror_mode": {
    "name": "ipython",
    "version": 3
   },
   "file_extension": ".py",
   "mimetype": "text/x-python",
   "name": "python",
   "nbconvert_exporter": "python",
   "pygments_lexer": "ipython3",
   "version": "3.10.9"
  }
 },
 "nbformat": 4,
 "nbformat_minor": 5
}
